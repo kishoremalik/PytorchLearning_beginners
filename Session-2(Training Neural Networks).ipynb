{
 "cells": [
  {
   "cell_type": "markdown",
   "metadata": {},
   "source": [
    "### Training Neural Networks\n",
    "The network we built in the previous part isn't so smart, it doesn't know anything about our handwritten digits. Neural networks with non-linear activations work like universal function approximators. There is some function that maps your input to the output. For example, images of handwritten digits to class probabilities. The power of neural networks is that we can train them to approximate this function, and basically any function given enough data and compute time.\n",
    "\n",
    "<img src=\"assets/function_approx.png\" width=500px>\n",
    "\n",
    "At first the network is naive, it doesn't know the function mapping the inputs to the outputs. We train the network by showing it examples of real data, then adjusting the network parameters such that it approximates this function.\n",
    "\n",
    "To find these parameters, we need to know how poorly the network is predicting the real outputs. For this we calculate a loss function (also called the cost), a measure of our prediction error. For example, the mean squared loss is often used in regression and binary classification problems\n",
    "\n",
    "$$\n",
    "\\large \\ell = \\frac{1}{2n}\\sum_i^n{\\left(y_i - \\hat{y}_i\\right)^2}\n",
    "$$\n",
    "where $n$ is the number of training examples, $y_i$ are the true labels, and $\\hat{y}_i$ are the predicted labels.\n",
    "\n",
    "By minimizing this loss with respect to the network parameters, we can find configurations where the loss is at a minimum and the network is able to predict the correct labels with high accuracy. We find this minimum using a process called gradient descent. The gradient is the slope of the loss function and points in the direction of fastest change. To get to the minimum in the least amount of time, we then want to follow the gradient (downwards). You can think of this like descending a mountain by following the steepest slope to the base.\n",
    "\n",
    "<img src='assets/gradient_descent.png' width=350px>"
   ]
  },
  {
   "cell_type": "markdown",
   "metadata": {},
   "source": [
    "### Backpropagation\n",
    "For single layer networks, gradient descent is straightforward to implement. However, it's more complicated for deeper, multilayer neural networks like the one we've built. Complicated enough that it took about 30 years before researchers figured out how to train multilayer networks.\n",
    "\n",
    "Training multilayer networks is done through backpropagation which is really just an application of the chain rule from calculus. It's easiest to understand if we convert a two layer network into a graph representation.\n",
    "\n",
    "<img src='assets/backprop_diagram.png' width=550px>\n",
    "\n",
    "In the forward pass through the network, our data and operations go from bottom to top here. We pass the input $x$ through a linear transformation $L_1$ with weights $W_1$ and biases $b_1$. The output then goes through the sigmoid operation $S$ and another linear transformation $L_2$. Finally we calculate the loss $\\ell$. We use the loss as a measure of how bad the network's predictions are. The goal then is to adjust the weights and biases to minimize the loss.\n",
    "\n",
    "To train the weights with gradient descent, we propagate the gradient of the loss backwards through the network. Each operation has some gradient between the inputs and outputs. As we send the gradients backwards, we multiply the incoming gradient with the gradient for the operation. Mathematically, this is really just calculating the gradient of the loss with respect to the weights using the chain rule.\n",
    "\n",
    "$$\n",
    "\\large \\frac{\\partial \\ell}{\\partial W_1} = \\frac{\\partial L_1}{\\partial W_1} \\frac{\\partial S}{\\partial L_1} \\frac{\\partial L_2}{\\partial S} \\frac{\\partial \\ell}{\\partial L_2}\n",
    "$$"
   ]
  },
  {
   "cell_type": "markdown",
   "metadata": {},
   "source": [
    "Note: I'm glossing over a few details here that require some knowledge of vector calculus, but they aren't necessary to understand what's going on.\n",
    "\n",
    "We update our weights using this gradient with some learning rate $\\alpha$.\n",
    "\n",
    "$$\n",
    "\\large W^\\prime_1 = W_1 - \\alpha \\frac{\\partial \\ell}{\\partial W_1}\n",
    "$$\n",
    "The learning rate $\\alpha$ is set such that the weight update steps are small enough that the iterative method settles in a minimum"
   ]
  },
  {
   "cell_type": "markdown",
   "metadata": {},
   "source": [
    "### Losses in PyTorch\n",
    "Let's start by seeing how we calculate the loss with PyTorch. Through the nn module, PyTorch provides losses such as the cross-entropy loss (nn.CrossEntropyLoss). You'll usually see the loss assigned to criterion. As noted in the last part, with a classification problem such as MNIST, we're using the softmax function to predict class probabilities. With a softmax output, you want to use cross-entropy as the loss. To actually calculate the loss, you first define the criterion then pass in the output of your network and the correct labels.\n",
    "\n",
    "Something really important to note here. Looking at the documentation for nn.CrossEntropyLoss,\n",
    "\n",
    "This criterion combines nn.LogSoftmax() and nn.NLLLoss() in one single class.\n",
    "\n",
    "The input is expected to contain scores for each class.\n",
    "\n",
    "This means we need to pass in the raw output of our network into the loss, not the output of the softmax function. This raw output is usually called the logits or scores. We use the logits because softmax gives you probabilities which will often be very close to zero or one but floating-point numbers can't accurately represent values near zero or one (read more here). It's usually best to avoid doing calculations with probabilities, typically we use log-probabilities."
   ]
  },
  {
   "cell_type": "code",
   "execution_count": 1,
   "metadata": {},
   "outputs": [],
   "source": [
    "import torch\n",
    "from torch import nn\n",
    "import torch.nn.functional as F\n",
    "from torchvision import datasets, transforms\n",
    "\n",
    "# Define a transform to normalize the data\n",
    "transform = transforms.Compose([transforms.ToTensor(),\n",
    "                                transforms.Normalize((0.5, 0.5, 0.5), (0.5, 0.5, 0.5)),\n",
    "                              ])\n",
    "# Download and load the training data\n",
    "trainset = datasets.MNIST('E:/DataSet/MNIST/', download=False, train=True, transform=transform)\n",
    "trainloader = torch.utils.data.DataLoader(trainset, batch_size=64, shuffle=True)"
   ]
  },
  {
   "cell_type": "code",
   "execution_count": 2,
   "metadata": {},
   "outputs": [
    {
     "name": "stdout",
     "output_type": "stream",
     "text": [
      "tensor(2.3133, grad_fn=<NllLossBackward>)\n"
     ]
    }
   ],
   "source": [
    "# Build a feed-forward network\n",
    "model = nn.Sequential(nn.Linear(784, 128),\n",
    "                      nn.ReLU(),\n",
    "                      nn.Linear(128, 64),\n",
    "                      nn.ReLU(),\n",
    "                      nn.Linear(64, 10))\n",
    "\n",
    "# Define the loss\n",
    "criterion = nn.CrossEntropyLoss()\n",
    "\n",
    "# Get our data\n",
    "images, labels = next(iter(trainloader))\n",
    "# Flatten images\n",
    "images = images.view(images.shape[0], -1)\n",
    "\n",
    "# Forward pass, get our logits\n",
    "logits = model(images)\n",
    "# Calculate the loss with the logits and the labels\n",
    "loss = criterion(logits, labels)\n",
    "\n",
    "print(loss)"
   ]
  },
  {
   "cell_type": "code",
   "execution_count": 3,
   "metadata": {
    "collapsed": true
   },
   "outputs": [
    {
     "data": {
      "text/plain": [
       "tensor([[ 0.0385,  0.0057, -0.0785,  0.0933,  0.1214, -0.0361,  0.0248,  0.0832,\n",
       "          0.0718, -0.1514],\n",
       "        [ 0.0186, -0.1396,  0.0875,  0.0820,  0.1353, -0.0503,  0.0378,  0.0765,\n",
       "          0.0290, -0.1361],\n",
       "        [-0.0160, -0.0586,  0.0075,  0.2284,  0.2861,  0.0196, -0.0103,  0.0944,\n",
       "          0.0991, -0.2288],\n",
       "        [ 0.0424, -0.0773, -0.0166,  0.1625,  0.2104, -0.0231,  0.0328,  0.0603,\n",
       "          0.0389, -0.2185],\n",
       "        [ 0.0620, -0.0689,  0.0571,  0.2033,  0.2188,  0.0488,  0.0549,  0.0441,\n",
       "          0.0435, -0.2328],\n",
       "        [ 0.1152, -0.1277,  0.0335,  0.1239,  0.2208,  0.0296,  0.0439,  0.0728,\n",
       "         -0.0808, -0.1996],\n",
       "        [ 0.0066, -0.0319, -0.0649,  0.1694,  0.1721, -0.0367,  0.0332,  0.0368,\n",
       "          0.0884, -0.2159],\n",
       "        [ 0.0388, -0.0800, -0.0520,  0.1297,  0.1764,  0.0172, -0.0302,  0.1382,\n",
       "         -0.0028, -0.1770],\n",
       "        [ 0.0079, -0.0925,  0.0443,  0.1361,  0.1610, -0.0122,  0.0357,  0.0941,\n",
       "          0.0011, -0.2076],\n",
       "        [ 0.0243, -0.0702,  0.0125,  0.1557,  0.1857, -0.0267, -0.0023,  0.1257,\n",
       "          0.0162, -0.2468],\n",
       "        [ 0.0408, -0.0986,  0.0132,  0.1115,  0.2299, -0.0364,  0.0025,  0.0688,\n",
       "          0.0256, -0.1524],\n",
       "        [ 0.1273, -0.0334, -0.0266,  0.1721,  0.2363,  0.0388,  0.0575,  0.0587,\n",
       "          0.0031, -0.1370],\n",
       "        [ 0.0370,  0.0078, -0.0249,  0.1234,  0.1333, -0.0627,  0.0502,  0.0700,\n",
       "          0.1206, -0.2004],\n",
       "        [ 0.0804, -0.0330,  0.0101,  0.0955,  0.1157, -0.0991, -0.0050,  0.0667,\n",
       "          0.0057, -0.1718],\n",
       "        [ 0.0522, -0.1705,  0.0940,  0.1474,  0.2247,  0.0275,  0.0318,  0.0526,\n",
       "          0.0015, -0.2028],\n",
       "        [-0.0067, -0.1210,  0.0439,  0.1079,  0.1337,  0.0072, -0.0036,  0.0931,\n",
       "         -0.0165, -0.1729],\n",
       "        [ 0.0480, -0.0886, -0.0555,  0.1020,  0.1956,  0.0143,  0.0010,  0.1215,\n",
       "         -0.0053, -0.2062],\n",
       "        [ 0.0304, -0.1152,  0.0309,  0.0942,  0.1089, -0.0571,  0.0170,  0.0806,\n",
       "         -0.0229, -0.1128],\n",
       "        [ 0.0133, -0.1131,  0.0234,  0.1331,  0.1799, -0.0706,  0.0517,  0.0491,\n",
       "          0.0749, -0.1790],\n",
       "        [ 0.0276, -0.1656,  0.0201,  0.1124,  0.2128,  0.0236, -0.0162,  0.0646,\n",
       "          0.0185, -0.1969],\n",
       "        [ 0.0149, -0.0687, -0.0329,  0.1798,  0.2291,  0.0009,  0.0388,  0.0655,\n",
       "          0.0471, -0.2106],\n",
       "        [ 0.0152, -0.0445, -0.0154,  0.1197,  0.2339, -0.0227, -0.0109, -0.0130,\n",
       "          0.0217, -0.1909],\n",
       "        [ 0.0211, -0.0679, -0.0558,  0.0837,  0.1687, -0.0059,  0.0344,  0.0547,\n",
       "          0.0399, -0.1683],\n",
       "        [ 0.0446,  0.0225, -0.0120,  0.0902,  0.1536, -0.1324,  0.0600,  0.0878,\n",
       "          0.0911, -0.2507],\n",
       "        [ 0.0329, -0.0453,  0.0081,  0.1448,  0.1870, -0.0209,  0.0032,  0.0731,\n",
       "          0.0343, -0.1924],\n",
       "        [ 0.0383, -0.0746, -0.0167,  0.1743,  0.2150, -0.1006, -0.0065,  0.0343,\n",
       "          0.0439, -0.2424],\n",
       "        [ 0.0449, -0.1086, -0.0169,  0.1096,  0.1644,  0.0232,  0.0171,  0.0977,\n",
       "         -0.0044, -0.1758],\n",
       "        [ 0.0485, -0.0798,  0.0407,  0.1160,  0.1351, -0.0505,  0.0121,  0.0601,\n",
       "         -0.0085, -0.1150],\n",
       "        [ 0.0342, -0.0759, -0.0028,  0.1635,  0.1565, -0.0419,  0.0049,  0.0579,\n",
       "          0.0078, -0.1874],\n",
       "        [ 0.0205, -0.1287,  0.0338,  0.1100,  0.1738,  0.0120,  0.0311,  0.1326,\n",
       "          0.0428, -0.2027],\n",
       "        [ 0.1291, -0.0924, -0.0326,  0.1064,  0.2384,  0.0861, -0.0271,  0.0054,\n",
       "         -0.0258, -0.1885],\n",
       "        [ 0.0710, -0.0426,  0.0581,  0.1921,  0.2416, -0.0688, -0.0035,  0.0607,\n",
       "          0.0352, -0.2076],\n",
       "        [ 0.0393, -0.1145, -0.0160,  0.1265,  0.2009, -0.0555,  0.0100,  0.0757,\n",
       "         -0.0020, -0.1646],\n",
       "        [ 0.0965, -0.1332,  0.0179,  0.0749,  0.1886, -0.0006, -0.0217,  0.1007,\n",
       "         -0.0718, -0.1689],\n",
       "        [ 0.1474, -0.0949,  0.0078,  0.1291,  0.1938,  0.0837,  0.0296,  0.0456,\n",
       "         -0.0376, -0.1949],\n",
       "        [ 0.0386, -0.0695, -0.0219,  0.0859,  0.1350, -0.1046,  0.0279,  0.1187,\n",
       "          0.0898, -0.1361],\n",
       "        [ 0.0143, -0.1026,  0.0479,  0.1391,  0.1761, -0.0241, -0.0221,  0.0417,\n",
       "         -0.0028, -0.1790],\n",
       "        [ 0.0871, -0.1157,  0.0080,  0.1100,  0.2038,  0.0416,  0.0210,  0.0335,\n",
       "         -0.0023, -0.1648],\n",
       "        [ 0.0833, -0.0187, -0.0494,  0.0734,  0.1958,  0.0329,  0.0166,  0.0961,\n",
       "          0.0059, -0.3287],\n",
       "        [ 0.0689, -0.1005,  0.0143,  0.1275,  0.2200,  0.0485, -0.0742,  0.0938,\n",
       "         -0.0761, -0.1949],\n",
       "        [ 0.0337, -0.0672, -0.0304,  0.0900,  0.1724,  0.0166,  0.0379,  0.0621,\n",
       "         -0.0493, -0.1997],\n",
       "        [ 0.0231, -0.1420,  0.0699,  0.1128,  0.1355, -0.0838,  0.0268,  0.0684,\n",
       "          0.0259, -0.1609],\n",
       "        [ 0.0824, -0.1381,  0.0256,  0.0993,  0.1842,  0.0348, -0.0283,  0.1033,\n",
       "         -0.0831, -0.1656],\n",
       "        [ 0.0569, -0.0938, -0.0160,  0.0962,  0.1668, -0.0142, -0.0204,  0.1145,\n",
       "         -0.0298, -0.2030],\n",
       "        [ 0.0189, -0.0078, -0.0349,  0.1823,  0.2113, -0.0175,  0.0839,  0.0287,\n",
       "          0.0889, -0.1829],\n",
       "        [ 0.0742, -0.1303, -0.0016,  0.1214,  0.1967,  0.0356,  0.0001,  0.1027,\n",
       "         -0.0640, -0.2116],\n",
       "        [ 0.0326, -0.1018,  0.0392,  0.1348,  0.2058, -0.0048,  0.0084,  0.0668,\n",
       "          0.0217, -0.1188],\n",
       "        [ 0.0733, -0.0625, -0.0126,  0.1530,  0.2100,  0.0647,  0.0652,  0.0119,\n",
       "         -0.0176, -0.2255],\n",
       "        [ 0.0621, -0.1553,  0.0038,  0.1670,  0.2270,  0.0021,  0.0034,  0.0885,\n",
       "          0.0172, -0.2583],\n",
       "        [ 0.0537, -0.0501,  0.0450,  0.1588,  0.2307, -0.0154, -0.0161,  0.0254,\n",
       "         -0.0063, -0.1673],\n",
       "        [ 0.0446, -0.0908,  0.0021,  0.1351,  0.1915, -0.0024,  0.0176,  0.0958,\n",
       "          0.0009, -0.2501],\n",
       "        [ 0.0583, -0.1082,  0.0631,  0.1112,  0.2019, -0.0327,  0.0399,  0.0535,\n",
       "         -0.0085, -0.1665],\n",
       "        [ 0.0691, -0.0546, -0.0009,  0.1481,  0.2852,  0.0003,  0.0111,  0.0393,\n",
       "          0.0368, -0.2116],\n",
       "        [-0.0240, -0.0634, -0.0096,  0.2091,  0.2438, -0.0130, -0.0036,  0.1000,\n",
       "          0.0558, -0.2942],\n",
       "        [ 0.0244, -0.0944, -0.0260,  0.1388,  0.1836,  0.0123, -0.0343,  0.1297,\n",
       "         -0.0166, -0.1549],\n",
       "        [ 0.0483, -0.0995,  0.1060,  0.1152,  0.1788,  0.0148,  0.0516,  0.0666,\n",
       "         -0.0025, -0.1703],\n",
       "        [ 0.0184, -0.0881, -0.0127,  0.1052,  0.1964,  0.0621,  0.0562,  0.1086,\n",
       "         -0.0112, -0.2777],\n",
       "        [ 0.0215, -0.1294,  0.0162,  0.1566,  0.1484,  0.0881,  0.0309,  0.1388,\n",
       "         -0.0088, -0.1667],\n",
       "        [ 0.0499, -0.0822,  0.0350,  0.1330,  0.1744, -0.0492,  0.0059,  0.1037,\n",
       "          0.0211, -0.1297],\n",
       "        [ 0.0327, -0.1199,  0.0300,  0.0917,  0.1842, -0.0139, -0.0094,  0.0580,\n",
       "         -0.0713, -0.2040],\n",
       "        [ 0.0524, -0.0881, -0.0047,  0.1143,  0.1519, -0.0006, -0.0463,  0.1131,\n",
       "         -0.0478, -0.1750],\n",
       "        [ 0.0446, -0.0200, -0.0299,  0.1155,  0.1560, -0.0044,  0.0252,  0.0549,\n",
       "          0.0179, -0.2334],\n",
       "        [-0.0004, -0.0458, -0.0028,  0.1250,  0.2170,  0.0741,  0.0521,  0.0682,\n",
       "          0.0633, -0.2411],\n",
       "        [ 0.0568, -0.0784,  0.0431,  0.0719,  0.1440, -0.0268,  0.0448,  0.0691,\n",
       "         -0.0014, -0.1730]], grad_fn=<ThAddmmBackward>)"
      ]
     },
     "execution_count": 3,
     "metadata": {},
     "output_type": "execute_result"
    }
   ],
   "source": [
    "logits"
   ]
  },
  {
   "cell_type": "code",
   "execution_count": 4,
   "metadata": {},
   "outputs": [
    {
     "name": "stdout",
     "output_type": "stream",
     "text": [
      "Before backward pass: \n",
      " None\n",
      "After backward pass: \n",
      " tensor([[-0.0004, -0.0004, -0.0004,  ..., -0.0004, -0.0004, -0.0004],\n",
      "        [ 0.0008,  0.0008,  0.0008,  ...,  0.0008,  0.0008,  0.0008],\n",
      "        [ 0.0015,  0.0015,  0.0015,  ...,  0.0015,  0.0015,  0.0015],\n",
      "        ...,\n",
      "        [-0.0052, -0.0052, -0.0052,  ..., -0.0052, -0.0052, -0.0052],\n",
      "        [ 0.0020,  0.0020,  0.0020,  ...,  0.0020,  0.0020,  0.0020],\n",
      "        [ 0.0006,  0.0006,  0.0006,  ...,  0.0006,  0.0006,  0.0006]])\n"
     ]
    }
   ],
   "source": [
    "print('Before backward pass: \\n', model[0].weight.grad)\n",
    "\n",
    "loss.backward()\n",
    "\n",
    "print('After backward pass: \\n', model[0].weight.grad)"
   ]
  },
  {
   "cell_type": "markdown",
   "metadata": {},
   "source": [
    "### training in real "
   ]
  },
  {
   "cell_type": "code",
   "execution_count": 10,
   "metadata": {},
   "outputs": [
    {
     "name": "stdout",
     "output_type": "stream",
     "text": [
      "Training loss: 2.0665782765030607\n",
      "Training loss: 1.0481960130398715\n",
      "Training loss: 0.577820306616043\n",
      "Training loss: 0.4490077917192028\n",
      "Training loss: 0.39628359467299507\n"
     ]
    }
   ],
   "source": [
    "from torch import optim\n",
    "model = nn.Sequential(nn.Linear(784, 128),\n",
    "                      nn.ReLU(),\n",
    "                      nn.Linear(128, 64),\n",
    "                      nn.ReLU(),\n",
    "                      nn.Linear(64, 10),\n",
    "                      nn.LogSoftmax(dim=1))\n",
    "\n",
    "criterion = nn.NLLLoss()\n",
    "optimizer = optim.SGD(model.parameters(), lr=0.003)\n",
    "\n",
    "epochs = 5\n",
    "for e in range(epochs):\n",
    "    running_loss = 0\n",
    "    for images, labels in trainloader:\n",
    "        # Flatten MNIST images into a 784 long vector\n",
    "        images = images.view(images.shape[0], -1)\n",
    "    \n",
    "        # TODO: Training pass\n",
    "        optimizer.zero_grad()\n",
    "        \n",
    "        output = model(images)\n",
    "        loss = criterion(output, labels)\n",
    "        loss.backward()\n",
    "        optimizer.step()\n",
    "        \n",
    "        running_loss += loss.item()\n",
    "    else:\n",
    "        print(f\"Training loss: {running_loss/len(trainloader)}\")"
   ]
  },
  {
   "cell_type": "code",
   "execution_count": null,
   "metadata": {},
   "outputs": [],
   "source": []
  }
 ],
 "metadata": {
  "kernelspec": {
   "display_name": "Python 3",
   "language": "python",
   "name": "python3"
  },
  "language_info": {
   "codemirror_mode": {
    "name": "ipython",
    "version": 3
   },
   "file_extension": ".py",
   "mimetype": "text/x-python",
   "name": "python",
   "nbconvert_exporter": "python",
   "pygments_lexer": "ipython3",
   "version": "3.7.1"
  }
 },
 "nbformat": 4,
 "nbformat_minor": 2
}
